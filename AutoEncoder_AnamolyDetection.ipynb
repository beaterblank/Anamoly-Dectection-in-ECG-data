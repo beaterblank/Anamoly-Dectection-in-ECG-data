{
  "nbformat": 4,
  "nbformat_minor": 0,
  "metadata": {
    "colab": {
      "name": "AutoEncoder_AnamolyDetection.ipynb",
      "provenance": [],
      "collapsed_sections": []
    },
    "kernelspec": {
      "name": "python3",
      "display_name": "Python 3"
    },
    "language_info": {
      "name": "python"
    }
  },
  "cells": [
    {
      "cell_type": "markdown",
      "source": [
        "# **Anamoly Detection Using AutoEncoders**"
      ],
      "metadata": {
        "id": "1zXF3EXaOHmu"
      }
    },
    {
      "cell_type": "markdown",
      "source": [
        "## Imports"
      ],
      "metadata": {
        "id": "UAVnF4RvwHho"
      }
    },
    {
      "cell_type": "code",
      "execution_count": null,
      "metadata": {
        "id": "yCtcrUkJq_3U"
      },
      "outputs": [],
      "source": [
        "import pandas as pd\n",
        "import matplotlib as mpl\n",
        "import matplotlib.pyplot as plt\n",
        "\n",
        "import tensorflow as tf\n",
        "from tensorflow.python.keras import Model\n",
        "from tensorflow.python.keras.layers import Dense\n",
        "import numpy as np\n",
        "\n",
        "from sklearn.model_selection import train_test_split\n",
        "from sklearn.preprocessing import MinMaxScaler, StandardScaler\n",
        "\n",
        "mpl.rcParams['figure.figsize'] = (10,8)\n",
        "mpl.rcParams['axes.grid'] = False"
      ]
    },
    {
      "cell_type": "markdown",
      "source": [
        "## Getting data"
      ],
      "metadata": {
        "id": "2spR6IzbwKsm"
      }
    },
    {
      "cell_type": "code",
      "source": [
        "!rm -rf *\n",
        "!wget https://timeseriesclassification.com/Downloads/ECG5000.zip\n",
        "!unzip -o ECG5000.zip -d ECG5000/\n",
        "!cat ECG5000/ECG5000_TRAIN.txt ECG5000/ECG5000_TEST.txt > ECG.txt\n",
        "!rm -rf ECG5000 ECG5000.zip"
      ],
      "metadata": {
        "colab": {
          "base_uri": "https://localhost:8080/"
        },
        "id": "4__G6bsBruYW",
        "outputId": "39ef2b98-37c7-4278-b171-6a89c476d135"
      },
      "execution_count": null,
      "outputs": [
        {
          "output_type": "stream",
          "name": "stdout",
          "text": [
            "--2022-07-26 04:08:22--  https://timeseriesclassification.com/Downloads/ECG5000.zip\n",
            "Resolving timeseriesclassification.com (timeseriesclassification.com)... 109.123.71.232\n",
            "Connecting to timeseriesclassification.com (timeseriesclassification.com)|109.123.71.232|:443... connected.\n",
            "HTTP request sent, awaiting response... 200 OK\n",
            "Length: 10614407 (10M) [application/zip]\n",
            "Saving to: ‘ECG5000.zip’\n",
            "\n",
            "ECG5000.zip         100%[===================>]  10.12M  7.88MB/s    in 1.3s    \n",
            "\n",
            "2022-07-26 04:08:24 (7.88 MB/s) - ‘ECG5000.zip’ saved [10614407/10614407]\n",
            "\n",
            "Archive:  ECG5000.zip\n",
            "  inflating: ECG5000/ECG5000.txt     \n",
            "  inflating: ECG5000/ECG5000_TEST.arff  \n",
            "  inflating: ECG5000/ECG5000_TEST.txt  \n",
            "  inflating: ECG5000/ECG5000_TRAIN.arff  \n",
            "  inflating: ECG5000/ECG5000_TRAIN.txt  \n",
            "  inflating: ECG5000/ECG5000_TEST.ts  \n",
            "  inflating: ECG5000/ECG5000_TRAIN.ts  \n"
          ]
        }
      ]
    },
    {
      "cell_type": "markdown",
      "source": [
        "## Reading Data"
      ],
      "metadata": {
        "id": "gH85X3PxwP4o"
      }
    },
    {
      "cell_type": "code",
      "source": [
        "df = pd.read_csv(\"ECG.txt\",sep=\"  \",header=None,engine='python')\n",
        "df.head()"
      ],
      "metadata": {
        "colab": {
          "base_uri": "https://localhost:8080/",
          "height": 299
        },
        "id": "9YTQ5XDsvPI9",
        "outputId": "874f2ec9-3580-4a7a-ffba-b55a222cf279"
      },
      "execution_count": null,
      "outputs": [
        {
          "output_type": "execute_result",
          "data": {
            "text/plain": [
              "   0         1         2         3         4         5         6         7    \\\n",
              "0  1.0 -0.112522 -2.827204 -3.773897 -4.349751 -4.376041 -3.474986 -2.181408   \n",
              "1  1.0 -1.100878 -3.996840 -4.285843 -4.506579 -4.022377 -3.234368 -1.566126   \n",
              "2  1.0 -0.567088 -2.593450 -3.874230 -4.584095 -4.187449 -3.151462 -1.742940   \n",
              "3  1.0  0.490473 -1.914407 -3.616364 -4.318823 -4.268016 -3.881110 -2.993280   \n",
              "4  1.0  0.800232 -0.874252 -2.384761 -3.973292 -4.338224 -3.802422 -2.534510   \n",
              "\n",
              "        8         9    ...       131       132       133       134       135  \\\n",
              "0 -1.818286 -1.250522  ...  0.160348  0.792168  0.933541  0.796958  0.578621   \n",
              "1 -0.992258 -0.754680  ...  0.560327  0.538356  0.656881  0.787490  0.724046   \n",
              "2 -1.490659 -1.183580  ...  1.284825  0.886073  0.531452  0.311377 -0.021919   \n",
              "3 -1.671131 -1.333884  ...  0.491173  0.350816  0.499111  0.600345  0.842069   \n",
              "4 -1.783423 -1.594450  ...  0.966606  1.148884  0.958434  1.059025  1.371682   \n",
              "\n",
              "        136       137       138       139       140  \n",
              "0  0.257740  0.228077  0.123431  0.925286  0.193137  \n",
              "1  0.555784  0.476333  0.773820  1.119621 -1.436250  \n",
              "2 -0.713683 -0.532197  0.321097  0.904227 -0.421797  \n",
              "3  0.952074  0.990133  1.086798  1.403011 -0.383564  \n",
              "4  1.277392  0.960304  0.971020  1.614392  1.421456  \n",
              "\n",
              "[5 rows x 141 columns]"
            ],
            "text/html": [
              "\n",
              "  <div id=\"df-07008c8d-f71e-46d4-998d-980104e84206\">\n",
              "    <div class=\"colab-df-container\">\n",
              "      <div>\n",
              "<style scoped>\n",
              "    .dataframe tbody tr th:only-of-type {\n",
              "        vertical-align: middle;\n",
              "    }\n",
              "\n",
              "    .dataframe tbody tr th {\n",
              "        vertical-align: top;\n",
              "    }\n",
              "\n",
              "    .dataframe thead th {\n",
              "        text-align: right;\n",
              "    }\n",
              "</style>\n",
              "<table border=\"1\" class=\"dataframe\">\n",
              "  <thead>\n",
              "    <tr style=\"text-align: right;\">\n",
              "      <th></th>\n",
              "      <th>0</th>\n",
              "      <th>1</th>\n",
              "      <th>2</th>\n",
              "      <th>3</th>\n",
              "      <th>4</th>\n",
              "      <th>5</th>\n",
              "      <th>6</th>\n",
              "      <th>7</th>\n",
              "      <th>8</th>\n",
              "      <th>9</th>\n",
              "      <th>...</th>\n",
              "      <th>131</th>\n",
              "      <th>132</th>\n",
              "      <th>133</th>\n",
              "      <th>134</th>\n",
              "      <th>135</th>\n",
              "      <th>136</th>\n",
              "      <th>137</th>\n",
              "      <th>138</th>\n",
              "      <th>139</th>\n",
              "      <th>140</th>\n",
              "    </tr>\n",
              "  </thead>\n",
              "  <tbody>\n",
              "    <tr>\n",
              "      <th>0</th>\n",
              "      <td>1.0</td>\n",
              "      <td>-0.112522</td>\n",
              "      <td>-2.827204</td>\n",
              "      <td>-3.773897</td>\n",
              "      <td>-4.349751</td>\n",
              "      <td>-4.376041</td>\n",
              "      <td>-3.474986</td>\n",
              "      <td>-2.181408</td>\n",
              "      <td>-1.818286</td>\n",
              "      <td>-1.250522</td>\n",
              "      <td>...</td>\n",
              "      <td>0.160348</td>\n",
              "      <td>0.792168</td>\n",
              "      <td>0.933541</td>\n",
              "      <td>0.796958</td>\n",
              "      <td>0.578621</td>\n",
              "      <td>0.257740</td>\n",
              "      <td>0.228077</td>\n",
              "      <td>0.123431</td>\n",
              "      <td>0.925286</td>\n",
              "      <td>0.193137</td>\n",
              "    </tr>\n",
              "    <tr>\n",
              "      <th>1</th>\n",
              "      <td>1.0</td>\n",
              "      <td>-1.100878</td>\n",
              "      <td>-3.996840</td>\n",
              "      <td>-4.285843</td>\n",
              "      <td>-4.506579</td>\n",
              "      <td>-4.022377</td>\n",
              "      <td>-3.234368</td>\n",
              "      <td>-1.566126</td>\n",
              "      <td>-0.992258</td>\n",
              "      <td>-0.754680</td>\n",
              "      <td>...</td>\n",
              "      <td>0.560327</td>\n",
              "      <td>0.538356</td>\n",
              "      <td>0.656881</td>\n",
              "      <td>0.787490</td>\n",
              "      <td>0.724046</td>\n",
              "      <td>0.555784</td>\n",
              "      <td>0.476333</td>\n",
              "      <td>0.773820</td>\n",
              "      <td>1.119621</td>\n",
              "      <td>-1.436250</td>\n",
              "    </tr>\n",
              "    <tr>\n",
              "      <th>2</th>\n",
              "      <td>1.0</td>\n",
              "      <td>-0.567088</td>\n",
              "      <td>-2.593450</td>\n",
              "      <td>-3.874230</td>\n",
              "      <td>-4.584095</td>\n",
              "      <td>-4.187449</td>\n",
              "      <td>-3.151462</td>\n",
              "      <td>-1.742940</td>\n",
              "      <td>-1.490659</td>\n",
              "      <td>-1.183580</td>\n",
              "      <td>...</td>\n",
              "      <td>1.284825</td>\n",
              "      <td>0.886073</td>\n",
              "      <td>0.531452</td>\n",
              "      <td>0.311377</td>\n",
              "      <td>-0.021919</td>\n",
              "      <td>-0.713683</td>\n",
              "      <td>-0.532197</td>\n",
              "      <td>0.321097</td>\n",
              "      <td>0.904227</td>\n",
              "      <td>-0.421797</td>\n",
              "    </tr>\n",
              "    <tr>\n",
              "      <th>3</th>\n",
              "      <td>1.0</td>\n",
              "      <td>0.490473</td>\n",
              "      <td>-1.914407</td>\n",
              "      <td>-3.616364</td>\n",
              "      <td>-4.318823</td>\n",
              "      <td>-4.268016</td>\n",
              "      <td>-3.881110</td>\n",
              "      <td>-2.993280</td>\n",
              "      <td>-1.671131</td>\n",
              "      <td>-1.333884</td>\n",
              "      <td>...</td>\n",
              "      <td>0.491173</td>\n",
              "      <td>0.350816</td>\n",
              "      <td>0.499111</td>\n",
              "      <td>0.600345</td>\n",
              "      <td>0.842069</td>\n",
              "      <td>0.952074</td>\n",
              "      <td>0.990133</td>\n",
              "      <td>1.086798</td>\n",
              "      <td>1.403011</td>\n",
              "      <td>-0.383564</td>\n",
              "    </tr>\n",
              "    <tr>\n",
              "      <th>4</th>\n",
              "      <td>1.0</td>\n",
              "      <td>0.800232</td>\n",
              "      <td>-0.874252</td>\n",
              "      <td>-2.384761</td>\n",
              "      <td>-3.973292</td>\n",
              "      <td>-4.338224</td>\n",
              "      <td>-3.802422</td>\n",
              "      <td>-2.534510</td>\n",
              "      <td>-1.783423</td>\n",
              "      <td>-1.594450</td>\n",
              "      <td>...</td>\n",
              "      <td>0.966606</td>\n",
              "      <td>1.148884</td>\n",
              "      <td>0.958434</td>\n",
              "      <td>1.059025</td>\n",
              "      <td>1.371682</td>\n",
              "      <td>1.277392</td>\n",
              "      <td>0.960304</td>\n",
              "      <td>0.971020</td>\n",
              "      <td>1.614392</td>\n",
              "      <td>1.421456</td>\n",
              "    </tr>\n",
              "  </tbody>\n",
              "</table>\n",
              "<p>5 rows × 141 columns</p>\n",
              "</div>\n",
              "      <button class=\"colab-df-convert\" onclick=\"convertToInteractive('df-07008c8d-f71e-46d4-998d-980104e84206')\"\n",
              "              title=\"Convert this dataframe to an interactive table.\"\n",
              "              style=\"display:none;\">\n",
              "        \n",
              "  <svg xmlns=\"http://www.w3.org/2000/svg\" height=\"24px\"viewBox=\"0 0 24 24\"\n",
              "       width=\"24px\">\n",
              "    <path d=\"M0 0h24v24H0V0z\" fill=\"none\"/>\n",
              "    <path d=\"M18.56 5.44l.94 2.06.94-2.06 2.06-.94-2.06-.94-.94-2.06-.94 2.06-2.06.94zm-11 1L8.5 8.5l.94-2.06 2.06-.94-2.06-.94L8.5 2.5l-.94 2.06-2.06.94zm10 10l.94 2.06.94-2.06 2.06-.94-2.06-.94-.94-2.06-.94 2.06-2.06.94z\"/><path d=\"M17.41 7.96l-1.37-1.37c-.4-.4-.92-.59-1.43-.59-.52 0-1.04.2-1.43.59L10.3 9.45l-7.72 7.72c-.78.78-.78 2.05 0 2.83L4 21.41c.39.39.9.59 1.41.59.51 0 1.02-.2 1.41-.59l7.78-7.78 2.81-2.81c.8-.78.8-2.07 0-2.86zM5.41 20L4 18.59l7.72-7.72 1.47 1.35L5.41 20z\"/>\n",
              "  </svg>\n",
              "      </button>\n",
              "      \n",
              "  <style>\n",
              "    .colab-df-container {\n",
              "      display:flex;\n",
              "      flex-wrap:wrap;\n",
              "      gap: 12px;\n",
              "    }\n",
              "\n",
              "    .colab-df-convert {\n",
              "      background-color: #E8F0FE;\n",
              "      border: none;\n",
              "      border-radius: 50%;\n",
              "      cursor: pointer;\n",
              "      display: none;\n",
              "      fill: #1967D2;\n",
              "      height: 32px;\n",
              "      padding: 0 0 0 0;\n",
              "      width: 32px;\n",
              "    }\n",
              "\n",
              "    .colab-df-convert:hover {\n",
              "      background-color: #E2EBFA;\n",
              "      box-shadow: 0px 1px 2px rgba(60, 64, 67, 0.3), 0px 1px 3px 1px rgba(60, 64, 67, 0.15);\n",
              "      fill: #174EA6;\n",
              "    }\n",
              "\n",
              "    [theme=dark] .colab-df-convert {\n",
              "      background-color: #3B4455;\n",
              "      fill: #D2E3FC;\n",
              "    }\n",
              "\n",
              "    [theme=dark] .colab-df-convert:hover {\n",
              "      background-color: #434B5C;\n",
              "      box-shadow: 0px 1px 3px 1px rgba(0, 0, 0, 0.15);\n",
              "      filter: drop-shadow(0px 1px 2px rgba(0, 0, 0, 0.3));\n",
              "      fill: #FFFFFF;\n",
              "    }\n",
              "  </style>\n",
              "\n",
              "      <script>\n",
              "        const buttonEl =\n",
              "          document.querySelector('#df-07008c8d-f71e-46d4-998d-980104e84206 button.colab-df-convert');\n",
              "        buttonEl.style.display =\n",
              "          google.colab.kernel.accessAllowed ? 'block' : 'none';\n",
              "\n",
              "        async function convertToInteractive(key) {\n",
              "          const element = document.querySelector('#df-07008c8d-f71e-46d4-998d-980104e84206');\n",
              "          const dataTable =\n",
              "            await google.colab.kernel.invokeFunction('convertToInteractive',\n",
              "                                                     [key], {});\n",
              "          if (!dataTable) return;\n",
              "\n",
              "          const docLinkHtml = 'Like what you see? Visit the ' +\n",
              "            '<a target=\"_blank\" href=https://colab.research.google.com/notebooks/data_table.ipynb>data table notebook</a>'\n",
              "            + ' to learn more about interactive tables.';\n",
              "          element.innerHTML = '';\n",
              "          dataTable['output_type'] = 'display_data';\n",
              "          await google.colab.output.renderOutput(dataTable, element);\n",
              "          const docLink = document.createElement('div');\n",
              "          docLink.innerHTML = docLinkHtml;\n",
              "          element.appendChild(docLink);\n",
              "        }\n",
              "      </script>\n",
              "    </div>\n",
              "  </div>\n",
              "  "
            ]
          },
          "metadata": {},
          "execution_count": 3
        }
      ]
    },
    {
      "cell_type": "markdown",
      "source": [
        "## Scaling and Spliting data"
      ],
      "metadata": {
        "id": "LLwy3eekwTaG"
      }
    },
    {
      "cell_type": "code",
      "source": [
        "scaler = MinMaxScaler()\n",
        "scaled = scaler.fit(df.values)\n",
        "train_data,test_data = train_test_split(df.values,test_size=0.2)\n",
        "train_data.shape"
      ],
      "metadata": {
        "colab": {
          "base_uri": "https://localhost:8080/"
        },
        "id": "LVAA2zNmzFs7",
        "outputId": "8714c52a-52f8-4c42-9ca5-b90904c0adc2"
      },
      "execution_count": null,
      "outputs": [
        {
          "output_type": "execute_result",
          "data": {
            "text/plain": [
              "(4000, 141)"
            ]
          },
          "metadata": {},
          "execution_count": 4
        }
      ]
    },
    {
      "cell_type": "code",
      "source": [
        "train_data_scaled = scaled.transform(train_data)\n",
        "test_data_scaled = scaled.transform(train_data)"
      ],
      "metadata": {
        "id": "AA703zXfztXe"
      },
      "execution_count": null,
      "outputs": []
    },
    {
      "cell_type": "markdown",
      "source": [
        "## Seperating normal and Anamoly data"
      ],
      "metadata": {
        "id": "gBzfa44jwhag"
      }
    },
    {
      "cell_type": "code",
      "source": [
        "n_train_data = pd.DataFrame(train_data_scaled).add_prefix('c').query('c0 == 0').values[:,1:]\n",
        "a_train_data = pd.DataFrame(train_data_scaled).add_prefix('c').query('c0 > 0').values[:,1:]\n",
        "print(n_train_data.shape,a_train_data.shape)"
      ],
      "metadata": {
        "colab": {
          "base_uri": "https://localhost:8080/"
        },
        "id": "3ZWGjp0sz4mE",
        "outputId": "7265e77e-27f8-48ec-abc5-0ed95f2aa22c"
      },
      "execution_count": null,
      "outputs": [
        {
          "output_type": "stream",
          "name": "stdout",
          "text": [
            "(2332, 140) (1668, 140)\n"
          ]
        }
      ]
    },
    {
      "cell_type": "code",
      "source": [
        "n_test_data = pd.DataFrame(test_data_scaled).add_prefix('c').query('c0 == 0').values[:,1:]\n",
        "a_test_data = pd.DataFrame(test_data_scaled).add_prefix('c').query('c0 > 0').values[:,1:]\n",
        "print(n_test_data.shape,a_test_data.shape)"
      ],
      "metadata": {
        "id": "FvMTneO_2HNN",
        "colab": {
          "base_uri": "https://localhost:8080/"
        },
        "outputId": "36a3cff1-ac3f-4cf9-dddb-312d5d82ad61"
      },
      "execution_count": null,
      "outputs": [
        {
          "output_type": "stream",
          "name": "stdout",
          "text": [
            "(2332, 140) (1668, 140)\n"
          ]
        }
      ]
    },
    {
      "cell_type": "markdown",
      "source": [
        "### Normal data"
      ],
      "metadata": {
        "id": "t7IJe7rqwoDV"
      }
    },
    {
      "cell_type": "code",
      "source": [
        "plt.plot(n_train_data[0])\n",
        "plt.plot(n_test_data[10])\n",
        "plt.plot(n_train_data[50])"
      ],
      "metadata": {
        "colab": {
          "base_uri": "https://localhost:8080/",
          "height": 282
        },
        "id": "jAIlFDcw3kcq",
        "outputId": "78de12ce-404d-4d60-aa66-071edabef2bc"
      },
      "execution_count": null,
      "outputs": [
        {
          "output_type": "execute_result",
          "data": {
            "text/plain": [
              "[<matplotlib.lines.Line2D at 0x7f7f1a7fb550>]"
            ]
          },
          "metadata": {},
          "execution_count": 8
        },
        {
          "output_type": "display_data",
          "data": {
            "text/plain": [
              "<Figure size 432x288 with 1 Axes>"
            ],
            "image/png": "[encoded data removed]"
          },
          "metadata": {
            "needs_background": "light"
          }
        }
      ]
    },
    {
      "cell_type": "markdown",
      "source": [
        "### Anamoly data"
      ],
      "metadata": {
        "id": "-NxCnEg6wrH4"
      }
    },
    {
      "cell_type": "code",
      "source": [
        "plt.plot(a_test_data[0])\n",
        "plt.plot(a_train_data[10])\n",
        "plt.plot(a_test_data[50])"
      ],
      "metadata": {
        "colab": {
          "base_uri": "https://localhost:8080/",
          "height": 282
        },
        "id": "87TzIs4W3yHi",
        "outputId": "d13bd390-d88a-453f-af5b-b32737d5972c"
      },
      "execution_count": null,
      "outputs": [
        {
          "output_type": "execute_result",
          "data": {
            "text/plain": [
              "[<matplotlib.lines.Line2D at 0x7f7f1cebef50>]"
            ]
          },
          "metadata": {},
          "execution_count": 9
        },
        {
          "output_type": "display_data",
          "data": {
            "text/plain": [
              "<Figure size 432x288 with 1 Axes>"
            ],
            "image/png": "[encoded data removed]"
          },
          "metadata": {
            "needs_background": "light"
          }
        }
      ]
    },
    {
      "cell_type": "markdown",
      "source": [
        "## Auto Encoder class"
      ],
      "metadata": {
        "id": "VnMu2-OFwu7M"
      }
    },
    {
      "cell_type": "code",
      "source": [
        "class AutoEncoder(Model):\n",
        "  def __init__(self):\n",
        "      super(AutoEncoder,self).__init__()\n",
        "      self.encoder = tf.keras.Sequential([\n",
        "        Dense(128,activation = 'relu'),\n",
        "        Dense(64,activation = 'relu'),\n",
        "        Dense(32,activation = 'relu'),\n",
        "        Dense(16,activation = 'relu')                        \n",
        "      ])\n",
        "      self.decoder = tf.keras.Sequential([\n",
        "        Dense(16,activation = 'relu'),\n",
        "        Dense(32,activation = 'relu'),\n",
        "        Dense(64,activation = 'relu'),\n",
        "        Dense(128,activation = 'relu'),\n",
        "        Dense(140,activation = 'sigmoid')  \n",
        "      ])\n",
        "  def call(self,x):\n",
        "      return self.decoder(self.encoder(x))"
      ],
      "metadata": {
        "id": "EaqijUS95l7G"
      },
      "execution_count": null,
      "outputs": []
    },
    {
      "cell_type": "markdown",
      "source": [
        "## Training Data"
      ],
      "metadata": {
        "id": "j_ue63ECwzcT"
      }
    },
    {
      "cell_type": "code",
      "source": [
        "model = AutoEncoder()\n",
        "model.compile(optimizer='adam',loss='mae')\n",
        "history = model.fit(n_train_data,n_train_data,epochs=50)"
      ],
      "metadata": {
        "id": "LyznVklV7nCz"
      },
      "execution_count": null,
      "outputs": []
    },
    {
      "cell_type": "markdown",
      "source": [
        "## Testing"
      ],
      "metadata": {
        "id": "Bzt2RAu3xWJg"
      }
    },
    {
      "cell_type": "code",
      "source": [
        "reconstructions = model.predict(n_test_data)\n",
        "train_loss = tf.keras.losses.mae(reconstructions,n_test_data)"
      ],
      "metadata": {
        "id": "cAeNNMFKBM6H"
      },
      "execution_count": null,
      "outputs": []
    },
    {
      "cell_type": "code",
      "source": [
        "encoder_out = model.encoder(n_test_data).numpy()\n",
        "decoder_out = model.decoder(encoder_out).numpy()\n",
        "print(encoder_out.shape,decoder_out.shape)\n",
        "n_loss = tf.keras.losses.mae(decoder_out,n_test_data)"
      ],
      "metadata": {
        "colab": {
          "base_uri": "https://localhost:8080/"
        },
        "id": "S8rYidD3-AXH",
        "outputId": "805891b0-3b05-4127-cc63-cde9685c05f1"
      },
      "execution_count": null,
      "outputs": [
        {
          "output_type": "stream",
          "name": "stdout",
          "text": [
            "(2332, 16) (2332, 140)\n"
          ]
        }
      ]
    },
    {
      "cell_type": "code",
      "source": [
        "plt.plot(n_test_data[0])\n",
        "plt.plot(decoder_out[0])"
      ],
      "metadata": {
        "colab": {
          "base_uri": "https://localhost:8080/",
          "height": 282
        },
        "id": "FPOE6_PO-cFL",
        "outputId": "0a62e92f-3a2c-4e29-919e-0b025c7212e7"
      },
      "execution_count": null,
      "outputs": [
        {
          "output_type": "execute_result",
          "data": {
            "text/plain": [
              "[<matplotlib.lines.Line2D at 0x7f7f0cf21350>]"
            ]
          },
          "metadata": {},
          "execution_count": 51
        },
        {
          "output_type": "display_data",
          "data": {
            "text/plain": [
              "<Figure size 432x288 with 1 Axes>"
            ],
            "image/png": "[encoded data removed]"
          },
          "metadata": {
            "needs_background": "light"
          }
        }
      ]
    },
    {
      "cell_type": "code",
      "source": [
        "encoder_out = model.encoder(a_test_data).numpy()\n",
        "decoder_out = model.decoder(encoder_out).numpy()\n",
        "print(encoder_out.shape,decoder_out.shape)\n",
        "a_loss = tf.keras.losses.mae(decoder_out,a_test_data)"
      ],
      "metadata": {
        "colab": {
          "base_uri": "https://localhost:8080/"
        },
        "id": "DXi7M6Kv_WV5",
        "outputId": "948f5a9a-acb0-4dae-c1b2-6454d1aa36ad"
      },
      "execution_count": null,
      "outputs": [
        {
          "output_type": "stream",
          "name": "stdout",
          "text": [
            "(1668, 16) (1668, 140)\n"
          ]
        }
      ]
    },
    {
      "cell_type": "code",
      "source": [
        "plt.plot(a_test_data[0])\n",
        "plt.plot(decoder_out[0])"
      ],
      "metadata": {
        "colab": {
          "base_uri": "https://localhost:8080/",
          "height": 282
        },
        "id": "2guyDMAf_iNc",
        "outputId": "f913115c-f709-45ea-f55f-7a642b8f1396"
      },
      "execution_count": null,
      "outputs": [
        {
          "output_type": "execute_result",
          "data": {
            "text/plain": [
              "[<matplotlib.lines.Line2D at 0x7f7f0dfaae50>]"
            ]
          },
          "metadata": {},
          "execution_count": 53
        },
        {
          "output_type": "display_data",
          "data": {
            "text/plain": [
              "<Figure size 432x288 with 1 Axes>"
            ],
            "image/png": "[encoded data removed]"
          },
          "metadata": {
            "needs_background": "light"
          }
        }
      ]
    },
    {
      "cell_type": "code",
      "source": [
        "plt.hist(n_loss,bins=100,label=\"normal\")\n",
        "plt.hist(a_loss,bins=100,label=\"anamoly\")\n",
        "threshold = np.mean(train_loss)+2*np.std(train_loss)\n",
        "plt.axvline(threshold)\n",
        "plt.legend(loc='upper right')"
      ],
      "metadata": {
        "colab": {
          "base_uri": "https://localhost:8080/",
          "height": 282
        },
        "id": "iVlir3TuAdVi",
        "outputId": "53009eb5-eeda-40c4-917e-2ef101a690ea"
      },
      "execution_count": null,
      "outputs": [
        {
          "output_type": "execute_result",
          "data": {
            "text/plain": [
              "<matplotlib.legend.Legend at 0x7f7f0cb76390>"
            ]
          },
          "metadata": {},
          "execution_count": 55
        },
        {
          "output_type": "display_data",
          "data": {
            "text/plain": [
              "<Figure size 432x288 with 1 Axes>"
            ],
            "image/png": "[encoded data removed]"
          },
          "metadata": {
            "needs_background": "light"
          }
        }
      ]
    },
    {
      "cell_type": "code",
      "source": [
        "data = scaled.transform(df.values) \n",
        "normal = data[:,0]==0\n",
        "anamoly = data[:,0]>0\n",
        "data = data[:,1:]\n",
        "q = np.zeros(5000)\n",
        "q[normal] = 0\n",
        "q[anamoly] = 1"
      ],
      "metadata": {
        "id": "qoNTFQNTDcqV"
      },
      "execution_count": null,
      "outputs": []
    },
    {
      "cell_type": "code",
      "source": [
        "reconstructions = model.predict(data)\n",
        "loss = tf.keras.losses.mae(reconstructions,data)\n",
        "normal =  loss<=threshold\n",
        "anamoly = loss>threshold\n",
        "p = np.zeros(5000)\n",
        "p[normal] = 0\n",
        "p[anamoly] = 1\n",
        "plot = plt.hist(loss[normal],bins=100,label=\"normal\")\n",
        "plot = plt.hist(loss[anamoly],bins=100,label=\"anamoly\")\n",
        "plt.axvline(threshold,color='r')"
      ],
      "metadata": {
        "colab": {
          "base_uri": "https://localhost:8080/",
          "height": 282
        },
        "id": "Zlkh7fXFERTf",
        "outputId": "2b1281b0-c63f-48a6-d0bb-e9959c3cac5b"
      },
      "execution_count": null,
      "outputs": [
        {
          "output_type": "execute_result",
          "data": {
            "text/plain": [
              "<matplotlib.lines.Line2D at 0x7f7f0c88ce50>"
            ]
          },
          "metadata": {},
          "execution_count": 57
        },
        {
          "output_type": "display_data",
          "data": {
            "text/plain": [
              "<Figure size 432x288 with 1 Axes>"
            ],
            "image/png": "[encoded data removed]"
          },
          "metadata": {
            "needs_background": "light"
          }
        }
      ]
    },
    {
      "cell_type": "code",
      "source": [
        "m1 = tf.keras.metrics.Accuracy()\n",
        "m1.update_state(y_pred = p,y_true = q)\n",
        "m1.result().numpy()*100"
      ],
      "metadata": {
        "colab": {
          "base_uri": "https://localhost:8080/"
        },
        "id": "T2Y8DO-gLzWC",
        "outputId": "087877ad-751d-483f-80f5-b203c76bb661"
      },
      "execution_count": null,
      "outputs": [
        {
          "output_type": "execute_result",
          "data": {
            "text/plain": [
              "95.99999785423279"
            ]
          },
          "metadata": {},
          "execution_count": 58
        }
      ]
    },
    {
      "cell_type": "code",
      "source": [
        "tf.math.confusion_matrix(q,p).numpy()"
      ],
      "metadata": {
        "colab": {
          "base_uri": "https://localhost:8080/"
        },
        "id": "lz7OHJOdMjph",
        "outputId": "c70cd00a-d39c-4743-d674-a41ea0e8fc14"
      },
      "execution_count": null,
      "outputs": [
        {
          "output_type": "execute_result",
          "data": {
            "text/plain": [
              "array([[2803,  116],\n",
              "       [  84, 1997]], dtype=int32)"
            ]
          },
          "metadata": {},
          "execution_count": 59
        }
      ]
    }
  ]
}